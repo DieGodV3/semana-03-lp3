{
 "cells": [
  {
   "cell_type": "markdown",
   "id": "1693fa06",
   "metadata": {},
   "source": [
    "# SEMANA 3\n",
    "Diego Alejandro Quispe Cancho"
   ]
  },
  {
   "cell_type": "markdown",
   "id": "6aa44b52",
   "metadata": {},
   "source": [
    "# Temas\n",
    "1. Números\n",
    "2. Variables\n",
    "3. Manejo de cadenas\n",
    "4. Ingreso de datos por el teclado\n",
    "5. Operadores"
   ]
  },
  {
   "cell_type": "markdown",
   "id": "5068ad81",
   "metadata": {},
   "source": [
    "2. Variables"
   ]
  },
  {
   "cell_type": "code",
   "execution_count": 1,
   "id": "0e550753",
   "metadata": {},
   "outputs": [],
   "source": [
    "#Siempre deben iniciar coon una letra o guión bajo.(nunca con un número o un símbolo)"
   ]
  },
  {
   "cell_type": "code",
   "execution_count": null,
   "id": "ced3304e",
   "metadata": {},
   "outputs": [],
   "source": []
  }
 ],
 "metadata": {
  "kernelspec": {
   "display_name": "Python 3 (ipykernel)",
   "language": "python",
   "name": "python3"
  },
  "language_info": {
   "codemirror_mode": {
    "name": "ipython",
    "version": 3
   },
   "file_extension": ".py",
   "mimetype": "text/x-python",
   "name": "python",
   "nbconvert_exporter": "python",
   "pygments_lexer": "ipython3",
   "version": "3.9.12"
  }
 },
 "nbformat": 4,
 "nbformat_minor": 5
}
